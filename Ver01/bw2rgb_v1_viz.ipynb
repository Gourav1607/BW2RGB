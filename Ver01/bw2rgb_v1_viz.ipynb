{
 "cells": [
  {
   "cell_type": "code",
   "execution_count": 1,
   "metadata": {
    "_cell_guid": "b1076dfc-b9ad-4769-8c92-a6c4dae69d19",
    "_uuid": "8f2839f25d086af736a60e9eeb907d3b93b6e0e5"
   },
   "outputs": [],
   "source": [
    "# bwrgb_v1_viz / BW2RGB\n",
    "# Gourav Siddhad\n",
    "# 10-November-2019"
   ]
  },
  {
   "cell_type": "code",
   "execution_count": 2,
   "metadata": {
    "_cell_guid": "79c7e3d0-c299-4dcb-8224-4455121ee9b0",
    "_uuid": "d629ff2d2480ee46fbb7e2d37f6b5fab8052498a"
   },
   "outputs": [
    {
     "name": "stdout",
     "output_type": "stream",
     "text": [
      "Importing Libraries"
     ]
    },
    {
     "name": "stderr",
     "output_type": "stream",
     "text": [
      "C:\\Anaconda\\lib\\site-packages\\tensorflow\\python\\framework\\dtypes.py:516: FutureWarning: Passing (type, 1) or '1type' as a synonym of type is deprecated; in a future version of numpy, it will be understood as (type, (1,)) / '(1,)type'.\n",
      "  _np_qint8 = np.dtype([(\"qint8\", np.int8, 1)])\n",
      "C:\\Anaconda\\lib\\site-packages\\tensorflow\\python\\framework\\dtypes.py:517: FutureWarning: Passing (type, 1) or '1type' as a synonym of type is deprecated; in a future version of numpy, it will be understood as (type, (1,)) / '(1,)type'.\n",
      "  _np_quint8 = np.dtype([(\"quint8\", np.uint8, 1)])\n",
      "C:\\Anaconda\\lib\\site-packages\\tensorflow\\python\\framework\\dtypes.py:518: FutureWarning: Passing (type, 1) or '1type' as a synonym of type is deprecated; in a future version of numpy, it will be understood as (type, (1,)) / '(1,)type'.\n",
      "  _np_qint16 = np.dtype([(\"qint16\", np.int16, 1)])\n",
      "C:\\Anaconda\\lib\\site-packages\\tensorflow\\python\\framework\\dtypes.py:519: FutureWarning: Passing (type, 1) or '1type' as a synonym of type is deprecated; in a future version of numpy, it will be understood as (type, (1,)) / '(1,)type'.\n",
      "  _np_quint16 = np.dtype([(\"quint16\", np.uint16, 1)])\n",
      "C:\\Anaconda\\lib\\site-packages\\tensorflow\\python\\framework\\dtypes.py:520: FutureWarning: Passing (type, 1) or '1type' as a synonym of type is deprecated; in a future version of numpy, it will be understood as (type, (1,)) / '(1,)type'.\n",
      "  _np_qint32 = np.dtype([(\"qint32\", np.int32, 1)])\n",
      "C:\\Anaconda\\lib\\site-packages\\tensorflow\\python\\framework\\dtypes.py:525: FutureWarning: Passing (type, 1) or '1type' as a synonym of type is deprecated; in a future version of numpy, it will be understood as (type, (1,)) / '(1,)type'.\n",
      "  np_resource = np.dtype([(\"resource\", np.ubyte, 1)])\n",
      "C:\\Anaconda\\lib\\site-packages\\tensorboard\\compat\\tensorflow_stub\\dtypes.py:541: FutureWarning: Passing (type, 1) or '1type' as a synonym of type is deprecated; in a future version of numpy, it will be understood as (type, (1,)) / '(1,)type'.\n",
      "  _np_qint8 = np.dtype([(\"qint8\", np.int8, 1)])\n",
      "C:\\Anaconda\\lib\\site-packages\\tensorboard\\compat\\tensorflow_stub\\dtypes.py:542: FutureWarning: Passing (type, 1) or '1type' as a synonym of type is deprecated; in a future version of numpy, it will be understood as (type, (1,)) / '(1,)type'.\n",
      "  _np_quint8 = np.dtype([(\"quint8\", np.uint8, 1)])\n",
      "C:\\Anaconda\\lib\\site-packages\\tensorboard\\compat\\tensorflow_stub\\dtypes.py:543: FutureWarning: Passing (type, 1) or '1type' as a synonym of type is deprecated; in a future version of numpy, it will be understood as (type, (1,)) / '(1,)type'.\n",
      "  _np_qint16 = np.dtype([(\"qint16\", np.int16, 1)])\n",
      "C:\\Anaconda\\lib\\site-packages\\tensorboard\\compat\\tensorflow_stub\\dtypes.py:544: FutureWarning: Passing (type, 1) or '1type' as a synonym of type is deprecated; in a future version of numpy, it will be understood as (type, (1,)) / '(1,)type'.\n",
      "  _np_quint16 = np.dtype([(\"quint16\", np.uint16, 1)])\n",
      "C:\\Anaconda\\lib\\site-packages\\tensorboard\\compat\\tensorflow_stub\\dtypes.py:545: FutureWarning: Passing (type, 1) or '1type' as a synonym of type is deprecated; in a future version of numpy, it will be understood as (type, (1,)) / '(1,)type'.\n",
      "  _np_qint32 = np.dtype([(\"qint32\", np.int32, 1)])\n",
      "C:\\Anaconda\\lib\\site-packages\\tensorboard\\compat\\tensorflow_stub\\dtypes.py:550: FutureWarning: Passing (type, 1) or '1type' as a synonym of type is deprecated; in a future version of numpy, it will be understood as (type, (1,)) / '(1,)type'.\n",
      "  np_resource = np.dtype([(\"resource\", np.ubyte, 1)])\n",
      "Using TensorFlow backend.\n"
     ]
    },
    {
     "name": "stdout",
     "output_type": "stream",
     "text": [
      "  - Done\n"
     ]
    }
   ],
   "source": [
    "from __future__ import absolute_import, division, print_function\n",
    "\n",
    "print('Importing Libraries', end='')\n",
    "\n",
    "import os\n",
    "os.environ['TF_CPP_MIN_LOG_LEVEL'] = '3' \n",
    "\n",
    "import tensorflow as tf\n",
    "from numpy.random import seed\n",
    "seed(1607)\n",
    "from tensorflow import set_random_seed\n",
    "set_random_seed(1607)\n",
    "\n",
    "from keras.models import Model, Sequential\n",
    "from keras.optimizers import Adam\n",
    "from keras.callbacks import EarlyStopping, ModelCheckpoint, CSVLogger\n",
    "from keras.layers import Input, Dense, Layer, Reshape, ReLU, Add\n",
    "from keras.layers.core import Activation, Flatten\n",
    "from keras.layers.normalization import BatchNormalization\n",
    "from keras.layers.convolutional import Conv2D, Conv2DTranspose\n",
    "import keras.backend as K\n",
    "from skimage.io import imsave\n",
    "\n",
    "import cv2\n",
    "import time\n",
    "import numpy as np\n",
    "import matplotlib.pyplot as plt\n",
    "from IPython import display\n",
    "\n",
    "from sklearn.model_selection import train_test_split\n",
    "from skimage.color import rgb2lab, lab2rgb\n",
    "\n",
    "print('  - Done')"
   ]
  },
  {
   "cell_type": "code",
   "execution_count": 3,
   "metadata": {},
   "outputs": [
    {
     "name": "stdout",
     "output_type": "stream",
     "text": [
      "WARNING:tensorflow:From C:\\Anaconda\\lib\\site-packages\\keras\\backend\\tensorflow_backend.py:517: The name tf.placeholder is deprecated. Please use tf.compat.v1.placeholder instead.\n",
      "\n",
      "WARNING:tensorflow:From C:\\Anaconda\\lib\\site-packages\\keras\\backend\\tensorflow_backend.py:4138: The name tf.random_uniform is deprecated. Please use tf.random.uniform instead.\n",
      "\n",
      "WARNING:tensorflow:From C:\\Anaconda\\lib\\site-packages\\keras\\backend\\tensorflow_backend.py:245: The name tf.get_default_graph is deprecated. Please use tf.compat.v1.get_default_graph instead.\n",
      "\n",
      "WARNING:tensorflow:From C:\\Anaconda\\lib\\site-packages\\keras\\backend\\tensorflow_backend.py:174: The name tf.get_default_session is deprecated. Please use tf.compat.v1.get_default_session instead.\n",
      "\n",
      "WARNING:tensorflow:From C:\\Anaconda\\lib\\site-packages\\keras\\backend\\tensorflow_backend.py:181: The name tf.ConfigProto is deprecated. Please use tf.compat.v1.ConfigProto instead.\n",
      "\n",
      "WARNING:tensorflow:From C:\\Anaconda\\lib\\site-packages\\keras\\backend\\tensorflow_backend.py:1834: The name tf.nn.fused_batch_norm is deprecated. Please use tf.compat.v1.nn.fused_batch_norm instead.\n",
      "\n",
      "WARNING:tensorflow:From C:\\Anaconda\\lib\\site-packages\\keras\\backend\\tensorflow_backend.py:3976: The name tf.nn.max_pool is deprecated. Please use tf.nn.max_pool2d instead.\n",
      "\n",
      "WARNING:tensorflow:From C:\\Anaconda\\lib\\site-packages\\keras\\optimizers.py:790: The name tf.train.Optimizer is deprecated. Please use tf.compat.v1.train.Optimizer instead.\n",
      "\n",
      "_________________________________________________________________\n",
      "Layer (type)                 Output Shape              Param #   \n",
      "=================================================================\n",
      "input_1 (InputLayer)         (None, 128, 128, 1)       0         \n",
      "_________________________________________________________________\n",
      "conv_0 (Sequential)          (None, 64, 64, 64)        112448    \n",
      "_________________________________________________________________\n",
      "conv_1 (Sequential)          (None, 32, 32, 128)       518656    \n",
      "_________________________________________________________________\n",
      "conv_2 (Sequential)          (None, 16, 16, 256)       2069504   \n",
      "_________________________________________________________________\n",
      "reshape_1 (Reshape)          (None, 128, 128, 4)       0         \n",
      "_________________________________________________________________\n",
      "conv_3 (Conv2D)              (None, 128, 128, 2)       74        \n",
      "=================================================================\n",
      "Total params: 2,700,682\n",
      "Trainable params: 2,697,098\n",
      "Non-trainable params: 3,584\n",
      "_________________________________________________________________\n"
     ]
    }
   ],
   "source": [
    "from keras.models import model_from_json\n",
    "\n",
    "json_file = open('bw2rgb.json', 'r')\n",
    "loaded_model_json = json_file.read()\n",
    "json_file.close()\n",
    "model = model_from_json(loaded_model_json)\n",
    "\n",
    "model.load_weights('bw2rgb.h5')\n",
    "model.compile(loss='mse', optimizer='adam', metrics=['accuracy'])\n",
    "model.summary()"
   ]
  },
  {
   "cell_type": "code",
   "execution_count": 4,
   "metadata": {},
   "outputs": [],
   "source": [
    "H, W, Ci, Co = 128, 128, 1, 2\n",
    "\n",
    "db = 'C:/Users/Gourav Siddhad/Documents/BW2RGB/Project/'\n",
    "db1 = 'test_128/'\n",
    "db2 = 'test_large/'\n",
    "db3 = 'test_under/'"
   ]
  },
  {
   "cell_type": "code",
   "execution_count": 5,
   "metadata": {},
   "outputs": [
    {
     "name": "stdout",
     "output_type": "stream",
     "text": [
      "C:/Users/Gourav Siddhad/Documents/BW2RGB/Project/test_128/\n",
      "....................................................................................................\n",
      "...................................................................................................\n",
      "...................................................................................................\n",
      "...................................................................................................\n",
      "...................................................................................................\n",
      "(500, 128, 128)\n",
      "........."
     ]
    },
    {
     "name": "stderr",
     "output_type": "stream",
     "text": [
      "C:\\Anaconda\\lib\\site-packages\\skimage\\color\\colorconv.py:988: UserWarning: Color data out of range: Z < 0 in 1 pixels\n",
      "  warn('Color data out of range: Z < 0 in %s pixels' % invalid[0].size)\n"
     ]
    },
    {
     "name": "stdout",
     "output_type": "stream",
     "text": [
      "...................."
     ]
    },
    {
     "name": "stderr",
     "output_type": "stream",
     "text": [
      "C:\\Anaconda\\lib\\site-packages\\skimage\\color\\colorconv.py:988: UserWarning: Color data out of range: Z < 0 in 7 pixels\n",
      "  warn('Color data out of range: Z < 0 in %s pixels' % invalid[0].size)\n"
     ]
    },
    {
     "name": "stdout",
     "output_type": "stream",
     "text": [
      "..............................................."
     ]
    },
    {
     "name": "stderr",
     "output_type": "stream",
     "text": [
      "C:\\Anaconda\\lib\\site-packages\\skimage\\color\\colorconv.py:988: UserWarning: Color data out of range: Z < 0 in 4 pixels\n",
      "  warn('Color data out of range: Z < 0 in %s pixels' % invalid[0].size)\n"
     ]
    },
    {
     "name": "stdout",
     "output_type": "stream",
     "text": [
      ".."
     ]
    },
    {
     "name": "stderr",
     "output_type": "stream",
     "text": [
      "C:\\Anaconda\\lib\\site-packages\\skimage\\color\\colorconv.py:988: UserWarning: Color data out of range: Z < 0 in 2 pixels\n",
      "  warn('Color data out of range: Z < 0 in %s pixels' % invalid[0].size)\n"
     ]
    },
    {
     "name": "stdout",
     "output_type": "stream",
     "text": [
      ".............."
     ]
    },
    {
     "name": "stderr",
     "output_type": "stream",
     "text": [
      "C:\\Anaconda\\lib\\site-packages\\skimage\\color\\colorconv.py:988: UserWarning: Color data out of range: Z < 0 in 8 pixels\n",
      "  warn('Color data out of range: Z < 0 in %s pixels' % invalid[0].size)\n"
     ]
    },
    {
     "name": "stdout",
     "output_type": "stream",
     "text": [
      "........\n",
      "..............................................."
     ]
    },
    {
     "name": "stderr",
     "output_type": "stream",
     "text": [
      "C:\\Anaconda\\lib\\site-packages\\skimage\\color\\colorconv.py:988: UserWarning: Color data out of range: Z < 0 in 3 pixels\n",
      "  warn('Color data out of range: Z < 0 in %s pixels' % invalid[0].size)\n"
     ]
    },
    {
     "name": "stdout",
     "output_type": "stream",
     "text": [
      "............................................"
     ]
    },
    {
     "name": "stderr",
     "output_type": "stream",
     "text": [
      "C:\\Anaconda\\lib\\site-packages\\skimage\\color\\colorconv.py:988: UserWarning: Color data out of range: Z < 0 in 5 pixels\n",
      "  warn('Color data out of range: Z < 0 in %s pixels' % invalid[0].size)\n"
     ]
    },
    {
     "name": "stdout",
     "output_type": "stream",
     "text": [
      "........\n",
      "......."
     ]
    },
    {
     "name": "stderr",
     "output_type": "stream",
     "text": [
      "C:\\Anaconda\\lib\\site-packages\\skimage\\color\\colorconv.py:988: UserWarning: Color data out of range: Z < 0 in 98 pixels\n",
      "  warn('Color data out of range: Z < 0 in %s pixels' % invalid[0].size)\n"
     ]
    },
    {
     "name": "stdout",
     "output_type": "stream",
     "text": [
      "...."
     ]
    },
    {
     "name": "stderr",
     "output_type": "stream",
     "text": [
      "C:\\Anaconda\\lib\\site-packages\\skimage\\color\\colorconv.py:988: UserWarning: Color data out of range: Z < 0 in 6 pixels\n",
      "  warn('Color data out of range: Z < 0 in %s pixels' % invalid[0].size)\n"
     ]
    },
    {
     "name": "stdout",
     "output_type": "stream",
     "text": [
      "..........................................."
     ]
    },
    {
     "name": "stderr",
     "output_type": "stream",
     "text": [
      "C:\\Anaconda\\lib\\site-packages\\skimage\\color\\colorconv.py:988: UserWarning: Color data out of range: Z < 0 in 17 pixels\n",
      "  warn('Color data out of range: Z < 0 in %s pixels' % invalid[0].size)\n"
     ]
    },
    {
     "name": "stdout",
     "output_type": "stream",
     "text": [
      ".............................................\n",
      ".........................................."
     ]
    },
    {
     "name": "stderr",
     "output_type": "stream",
     "text": [
      "C:\\Anaconda\\lib\\site-packages\\skimage\\color\\colorconv.py:988: UserWarning: Color data out of range: Z < 0 in 18 pixels\n",
      "  warn('Color data out of range: Z < 0 in %s pixels' % invalid[0].size)\n"
     ]
    },
    {
     "name": "stdout",
     "output_type": "stream",
     "text": [
      "................"
     ]
    },
    {
     "name": "stderr",
     "output_type": "stream",
     "text": [
      "C:\\Anaconda\\lib\\site-packages\\skimage\\color\\colorconv.py:988: UserWarning: Color data out of range: Z < 0 in 9 pixels\n",
      "  warn('Color data out of range: Z < 0 in %s pixels' % invalid[0].size)\n"
     ]
    },
    {
     "name": "stdout",
     "output_type": "stream",
     "text": [
      "......"
     ]
    },
    {
     "name": "stderr",
     "output_type": "stream",
     "text": [
      "C:\\Anaconda\\lib\\site-packages\\skimage\\color\\colorconv.py:988: UserWarning: Color data out of range: Z < 0 in 32 pixels\n",
      "  warn('Color data out of range: Z < 0 in %s pixels' % invalid[0].size)\n"
     ]
    },
    {
     "name": "stdout",
     "output_type": "stream",
     "text": [
      ".................................."
     ]
    },
    {
     "name": "stderr",
     "output_type": "stream",
     "text": [
      "C:\\Anaconda\\lib\\site-packages\\skimage\\color\\colorconv.py:988: UserWarning: Color data out of range: Z < 0 in 12 pixels\n",
      "  warn('Color data out of range: Z < 0 in %s pixels' % invalid[0].size)\n"
     ]
    },
    {
     "name": "stdout",
     "output_type": "stream",
     "text": [
      ".\n"
     ]
    },
    {
     "name": "stderr",
     "output_type": "stream",
     "text": [
      "C:\\Anaconda\\lib\\site-packages\\skimage\\color\\colorconv.py:988: UserWarning: Color data out of range: Z < 0 in 15 pixels\n",
      "  warn('Color data out of range: Z < 0 in %s pixels' % invalid[0].size)\n"
     ]
    },
    {
     "name": "stdout",
     "output_type": "stream",
     "text": [
      "..................................................................................................."
     ]
    }
   ],
   "source": [
    "dbt = db + db1\n",
    "print(dbt)\n",
    "images = []\n",
    "imlist = sorted(os.listdir(dbt))\n",
    "\n",
    "# Load Images\n",
    "for i, im in enumerate(imlist):\n",
    "    if i%100==0 and i!=0:\n",
    "        print()\n",
    "    else:\n",
    "        print('.', end='')\n",
    "        \n",
    "    img = cv2.cvtColor(cv2.imread(dbt + im), cv2.COLOR_BGR2RGB)\n",
    "    img_lab = rgb2lab(img)\n",
    "    img_l = img_lab[:, :, 0]/100.0\n",
    "    images.append(img_l)\n",
    "\n",
    "images = np.array(images)\n",
    "print()\n",
    "print(images.shape)\n",
    "\n",
    "# Convert Images\n",
    "for i, im in enumerate(images):\n",
    "    if i%100==0 and i!=0:\n",
    "        print()\n",
    "    else:\n",
    "        print('.', end='')\n",
    "        \n",
    "    t_ab = model.predict(im.reshape(1, H, W, Ci))\n",
    "    t_ab = t_ab.reshape(H, W, Co)\n",
    "\n",
    "    temp = np.zeros((H, W, Ci+Co))\n",
    "    temp[:, :, 0] = im*100.0\n",
    "    temp[:, :, 1:] = t_ab*128.0\n",
    "    temp = lab2rgb(temp.reshape(H, W, Ci+Co))\n",
    "    temp = np.array(temp*255, dtype='uint8')\n",
    "    temp = cv2.cvtColor(temp, cv2.COLOR_BGR2RGB)\n",
    "    \n",
    "    cv2.imwrite(db1 + imlist[i], temp)"
   ]
  },
  {
   "cell_type": "code",
   "execution_count": 6,
   "metadata": {},
   "outputs": [
    {
     "name": "stdout",
     "output_type": "stream",
     "text": [
      "C:/Users/Gourav Siddhad/Documents/BW2RGB/Project/test_large/\n",
      "..\n",
      "(2,)\n",
      "."
     ]
    },
    {
     "name": "stderr",
     "output_type": "stream",
     "text": [
      "C:\\Anaconda\\lib\\site-packages\\skimage\\color\\colorconv.py:988: UserWarning: Color data out of range: Z < 0 in 121 pixels\n",
      "  warn('Color data out of range: Z < 0 in %s pixels' % invalid[0].size)\n",
      "C:\\Anaconda\\lib\\site-packages\\skimage\\color\\colorconv.py:988: UserWarning: Color data out of range: Z < 0 in 63 pixels\n",
      "  warn('Color data out of range: Z < 0 in %s pixels' % invalid[0].size)\n",
      "C:\\Anaconda\\lib\\site-packages\\skimage\\color\\colorconv.py:988: UserWarning: Color data out of range: Z < 0 in 90 pixels\n",
      "  warn('Color data out of range: Z < 0 in %s pixels' % invalid[0].size)\n",
      "C:\\Anaconda\\lib\\site-packages\\skimage\\color\\colorconv.py:988: UserWarning: Color data out of range: Z < 0 in 16 pixels\n",
      "  warn('Color data out of range: Z < 0 in %s pixels' % invalid[0].size)\n",
      "C:\\Anaconda\\lib\\site-packages\\skimage\\color\\colorconv.py:988: UserWarning: Color data out of range: Z < 0 in 67 pixels\n",
      "  warn('Color data out of range: Z < 0 in %s pixels' % invalid[0].size)\n",
      "C:\\Anaconda\\lib\\site-packages\\skimage\\color\\colorconv.py:988: UserWarning: Color data out of range: Z < 0 in 73 pixels\n",
      "  warn('Color data out of range: Z < 0 in %s pixels' % invalid[0].size)\n",
      "C:\\Anaconda\\lib\\site-packages\\skimage\\color\\colorconv.py:988: UserWarning: Color data out of range: Z < 0 in 220 pixels\n",
      "  warn('Color data out of range: Z < 0 in %s pixels' % invalid[0].size)\n",
      "C:\\Anaconda\\lib\\site-packages\\skimage\\color\\colorconv.py:988: UserWarning: Color data out of range: Z < 0 in 52 pixels\n",
      "  warn('Color data out of range: Z < 0 in %s pixels' % invalid[0].size)\n",
      "C:\\Anaconda\\lib\\site-packages\\skimage\\color\\colorconv.py:988: UserWarning: Color data out of range: Z < 0 in 79 pixels\n",
      "  warn('Color data out of range: Z < 0 in %s pixels' % invalid[0].size)\n",
      "C:\\Anaconda\\lib\\site-packages\\skimage\\color\\colorconv.py:988: UserWarning: Color data out of range: Z < 0 in 280 pixels\n",
      "  warn('Color data out of range: Z < 0 in %s pixels' % invalid[0].size)\n",
      "C:\\Anaconda\\lib\\site-packages\\skimage\\color\\colorconv.py:988: UserWarning: Color data out of range: Z < 0 in 89 pixels\n",
      "  warn('Color data out of range: Z < 0 in %s pixels' % invalid[0].size)\n",
      "C:\\Anaconda\\lib\\site-packages\\skimage\\color\\colorconv.py:988: UserWarning: Color data out of range: Z < 0 in 251 pixels\n",
      "  warn('Color data out of range: Z < 0 in %s pixels' % invalid[0].size)\n",
      "C:\\Anaconda\\lib\\site-packages\\skimage\\color\\colorconv.py:988: UserWarning: Color data out of range: Z < 0 in 102 pixels\n",
      "  warn('Color data out of range: Z < 0 in %s pixels' % invalid[0].size)\n",
      "C:\\Anaconda\\lib\\site-packages\\skimage\\color\\colorconv.py:988: UserWarning: Color data out of range: Z < 0 in 29 pixels\n",
      "  warn('Color data out of range: Z < 0 in %s pixels' % invalid[0].size)\n",
      "C:\\Anaconda\\lib\\site-packages\\skimage\\color\\colorconv.py:988: UserWarning: Color data out of range: Z < 0 in 37 pixels\n",
      "  warn('Color data out of range: Z < 0 in %s pixels' % invalid[0].size)\n",
      "C:\\Anaconda\\lib\\site-packages\\skimage\\color\\colorconv.py:988: UserWarning: Color data out of range: Z < 0 in 28 pixels\n",
      "  warn('Color data out of range: Z < 0 in %s pixels' % invalid[0].size)\n",
      "C:\\Anaconda\\lib\\site-packages\\skimage\\color\\colorconv.py:988: UserWarning: Color data out of range: Z < 0 in 207 pixels\n",
      "  warn('Color data out of range: Z < 0 in %s pixels' % invalid[0].size)\n",
      "C:\\Anaconda\\lib\\site-packages\\skimage\\color\\colorconv.py:988: UserWarning: Color data out of range: Z < 0 in 118 pixels\n",
      "  warn('Color data out of range: Z < 0 in %s pixels' % invalid[0].size)\n",
      "C:\\Anaconda\\lib\\site-packages\\skimage\\color\\colorconv.py:988: UserWarning: Color data out of range: Z < 0 in 268 pixels\n",
      "  warn('Color data out of range: Z < 0 in %s pixels' % invalid[0].size)\n",
      "C:\\Anaconda\\lib\\site-packages\\skimage\\color\\colorconv.py:988: UserWarning: Color data out of range: Z < 0 in 82 pixels\n",
      "  warn('Color data out of range: Z < 0 in %s pixels' % invalid[0].size)\n",
      "C:\\Anaconda\\lib\\site-packages\\skimage\\color\\colorconv.py:988: UserWarning: Color data out of range: Z < 0 in 24 pixels\n",
      "  warn('Color data out of range: Z < 0 in %s pixels' % invalid[0].size)\n",
      "C:\\Anaconda\\lib\\site-packages\\skimage\\color\\colorconv.py:988: UserWarning: Color data out of range: Z < 0 in 20 pixels\n",
      "  warn('Color data out of range: Z < 0 in %s pixels' % invalid[0].size)\n",
      "C:\\Anaconda\\lib\\site-packages\\skimage\\color\\colorconv.py:988: UserWarning: Color data out of range: Z < 0 in 68 pixels\n",
      "  warn('Color data out of range: Z < 0 in %s pixels' % invalid[0].size)\n",
      "C:\\Anaconda\\lib\\site-packages\\skimage\\color\\colorconv.py:988: UserWarning: Color data out of range: Z < 0 in 44 pixels\n",
      "  warn('Color data out of range: Z < 0 in %s pixels' % invalid[0].size)\n",
      "C:\\Anaconda\\lib\\site-packages\\skimage\\color\\colorconv.py:988: UserWarning: Color data out of range: Z < 0 in 13 pixels\n",
      "  warn('Color data out of range: Z < 0 in %s pixels' % invalid[0].size)\n",
      "C:\\Anaconda\\lib\\site-packages\\skimage\\color\\colorconv.py:988: UserWarning: Color data out of range: Z < 0 in 25 pixels\n",
      "  warn('Color data out of range: Z < 0 in %s pixels' % invalid[0].size)\n",
      "C:\\Anaconda\\lib\\site-packages\\skimage\\color\\colorconv.py:988: UserWarning: Color data out of range: Z < 0 in 347 pixels\n",
      "  warn('Color data out of range: Z < 0 in %s pixels' % invalid[0].size)\n",
      "C:\\Anaconda\\lib\\site-packages\\skimage\\color\\colorconv.py:988: UserWarning: Color data out of range: Z < 0 in 124 pixels\n",
      "  warn('Color data out of range: Z < 0 in %s pixels' % invalid[0].size)\n",
      "C:\\Anaconda\\lib\\site-packages\\skimage\\color\\colorconv.py:988: UserWarning: Color data out of range: Z < 0 in 48 pixels\n",
      "  warn('Color data out of range: Z < 0 in %s pixels' % invalid[0].size)\n",
      "C:\\Anaconda\\lib\\site-packages\\skimage\\color\\colorconv.py:988: UserWarning: Color data out of range: Z < 0 in 35 pixels\n",
      "  warn('Color data out of range: Z < 0 in %s pixels' % invalid[0].size)\n",
      "C:\\Anaconda\\lib\\site-packages\\skimage\\color\\colorconv.py:988: UserWarning: Color data out of range: Z < 0 in 30 pixels\n",
      "  warn('Color data out of range: Z < 0 in %s pixels' % invalid[0].size)\n",
      "C:\\Anaconda\\lib\\site-packages\\skimage\\color\\colorconv.py:988: UserWarning: Color data out of range: Z < 0 in 21 pixels\n",
      "  warn('Color data out of range: Z < 0 in %s pixels' % invalid[0].size)\n",
      "C:\\Anaconda\\lib\\site-packages\\skimage\\color\\colorconv.py:988: UserWarning: Color data out of range: Z < 0 in 11 pixels\n",
      "  warn('Color data out of range: Z < 0 in %s pixels' % invalid[0].size)\n"
     ]
    },
    {
     "name": "stdout",
     "output_type": "stream",
     "text": [
      "."
     ]
    }
   ],
   "source": [
    "dbt = db + db2\n",
    "print(dbt)\n",
    "images = []\n",
    "imlist = sorted(os.listdir(dbt))\n",
    "\n",
    "# Load Images\n",
    "for i, im in enumerate(imlist):\n",
    "    if i%100==0 and i!=0:\n",
    "        print()\n",
    "    else:\n",
    "        print('.', end='')\n",
    "        \n",
    "    img = cv2.cvtColor(cv2.imread(dbt + im), cv2.COLOR_BGR2RGB)\n",
    "    img_lab = rgb2lab(img)\n",
    "    img_l = img_lab[:, :, 0]/100.0\n",
    "    images.append(img_l)\n",
    "\n",
    "images = np.array(images)\n",
    "print()\n",
    "print(images.shape)\n",
    "\n",
    "# Convert Images\n",
    "for i, im in enumerate(images):\n",
    "    if i%100==0 and i!=0:\n",
    "        print()\n",
    "    else:\n",
    "        print('.', end='')\n",
    "        \n",
    "    if float(im.shape[0]//H)==im.shape[0]/H:\n",
    "        a = im.shape[0]\n",
    "    else:\n",
    "        a = H*(im.shape[0]//H) + H\n",
    "        \n",
    "    if float(im.shape[1]//W)==im.shape[1]/W:\n",
    "        b = im.shape[1]\n",
    "    else:\n",
    "        b = W*(im.shape[1]//W) + W\n",
    "        \n",
    "    pimg = np.zeros((a, b))\n",
    "    pimg[0:im.shape[0], 0:im.shape[1]] = im\n",
    "        \n",
    "    new_img = np.zeros((a, b, Ci+Co))\n",
    "    for j in range(pimg.shape[0]//H):\n",
    "        for k in range(pimg.shape[1]//W):\n",
    "            t_l = pimg[j*H:(j+1)*H, k*W:(k+1)*W]\n",
    "\n",
    "            t_ab = model.predict(t_l.reshape(1, H, W, Ci))\n",
    "            t_ab = t_ab.reshape(H, W, Co)\n",
    "\n",
    "            temp = np.zeros((H, W, Ci+Co))\n",
    "            temp[:, :, 0] = t_l*100.0\n",
    "            temp[:, :, 1:] = t_ab*128.0\n",
    "            temp = lab2rgb(temp)\n",
    "\n",
    "            new_img[j*H:(j+1)*H, k*W:(k+1)*W, :] = temp.reshape(H, W, Ci+Co)\n",
    "    \n",
    "    newimg = np.array(new_img*255, dtype='uint8')\n",
    "    newimg = newimg[0:im.shape[0], 0:im.shape[1]]\n",
    "    newimg = cv2.cvtColor(newimg, cv2.COLOR_BGR2RGB)\n",
    "    \n",
    "    cv2.imwrite(db2 + imlist[i], newimg)"
   ]
  },
  {
   "cell_type": "code",
   "execution_count": 7,
   "metadata": {},
   "outputs": [
    {
     "name": "stdout",
     "output_type": "stream",
     "text": [
      "C:/Users/Gourav Siddhad/Documents/BW2RGB/Project/test_under/\n",
      ".......\n",
      "(7,)\n",
      ".."
     ]
    },
    {
     "name": "stderr",
     "output_type": "stream",
     "text": [
      "C:\\Anaconda\\lib\\site-packages\\skimage\\color\\colorconv.py:988: UserWarning: Color data out of range: Z < 0 in 80 pixels\n",
      "  warn('Color data out of range: Z < 0 in %s pixels' % invalid[0].size)\n"
     ]
    },
    {
     "name": "stdout",
     "output_type": "stream",
     "text": [
      "..."
     ]
    },
    {
     "name": "stderr",
     "output_type": "stream",
     "text": [
      "C:\\Anaconda\\lib\\site-packages\\skimage\\color\\colorconv.py:988: UserWarning: Color data out of range: Z < 0 in 304 pixels\n",
      "  warn('Color data out of range: Z < 0 in %s pixels' % invalid[0].size)\n"
     ]
    },
    {
     "name": "stdout",
     "output_type": "stream",
     "text": [
      "."
     ]
    },
    {
     "name": "stderr",
     "output_type": "stream",
     "text": [
      "C:\\Anaconda\\lib\\site-packages\\skimage\\color\\colorconv.py:988: UserWarning: Color data out of range: Z < 0 in 33 pixels\n",
      "  warn('Color data out of range: Z < 0 in %s pixels' % invalid[0].size)\n",
      "C:\\Anaconda\\lib\\site-packages\\skimage\\color\\colorconv.py:988: UserWarning: Color data out of range: Z < 0 in 509 pixels\n",
      "  warn('Color data out of range: Z < 0 in %s pixels' % invalid[0].size)\n",
      "C:\\Anaconda\\lib\\site-packages\\skimage\\color\\colorconv.py:988: UserWarning: Color data out of range: Z < 0 in 418 pixels\n",
      "  warn('Color data out of range: Z < 0 in %s pixels' % invalid[0].size)\n",
      "C:\\Anaconda\\lib\\site-packages\\skimage\\color\\colorconv.py:988: UserWarning: Color data out of range: Z < 0 in 396 pixels\n",
      "  warn('Color data out of range: Z < 0 in %s pixels' % invalid[0].size)\n"
     ]
    },
    {
     "name": "stdout",
     "output_type": "stream",
     "text": [
      "."
     ]
    },
    {
     "name": "stderr",
     "output_type": "stream",
     "text": [
      "C:\\Anaconda\\lib\\site-packages\\skimage\\color\\colorconv.py:988: UserWarning: Color data out of range: Z < 0 in 600 pixels\n",
      "  warn('Color data out of range: Z < 0 in %s pixels' % invalid[0].size)\n",
      "C:\\Anaconda\\lib\\site-packages\\skimage\\color\\colorconv.py:988: UserWarning: Color data out of range: Z < 0 in 10 pixels\n",
      "  warn('Color data out of range: Z < 0 in %s pixels' % invalid[0].size)\n",
      "C:\\Anaconda\\lib\\site-packages\\skimage\\color\\colorconv.py:988: UserWarning: Color data out of range: Z < 0 in 39 pixels\n",
      "  warn('Color data out of range: Z < 0 in %s pixels' % invalid[0].size)\n",
      "C:\\Anaconda\\lib\\site-packages\\skimage\\color\\colorconv.py:988: UserWarning: Color data out of range: Z < 0 in 104 pixels\n",
      "  warn('Color data out of range: Z < 0 in %s pixels' % invalid[0].size)\n",
      "C:\\Anaconda\\lib\\site-packages\\skimage\\color\\colorconv.py:988: UserWarning: Color data out of range: Z < 0 in 54 pixels\n",
      "  warn('Color data out of range: Z < 0 in %s pixels' % invalid[0].size)\n",
      "C:\\Anaconda\\lib\\site-packages\\skimage\\color\\colorconv.py:988: UserWarning: Color data out of range: Z < 0 in 34 pixels\n",
      "  warn('Color data out of range: Z < 0 in %s pixels' % invalid[0].size)\n",
      "C:\\Anaconda\\lib\\site-packages\\skimage\\color\\colorconv.py:988: UserWarning: Color data out of range: Z < 0 in 126 pixels\n",
      "  warn('Color data out of range: Z < 0 in %s pixels' % invalid[0].size)\n",
      "C:\\Anaconda\\lib\\site-packages\\skimage\\color\\colorconv.py:988: UserWarning: Color data out of range: Z < 0 in 26 pixels\n",
      "  warn('Color data out of range: Z < 0 in %s pixels' % invalid[0].size)\n",
      "C:\\Anaconda\\lib\\site-packages\\skimage\\color\\colorconv.py:988: UserWarning: Color data out of range: Z < 0 in 95 pixels\n",
      "  warn('Color data out of range: Z < 0 in %s pixels' % invalid[0].size)\n"
     ]
    }
   ],
   "source": [
    "dbt = db + db3\n",
    "print(dbt)\n",
    "images = []\n",
    "imlist = sorted(os.listdir(dbt))\n",
    "\n",
    "# Load Images\n",
    "for i, im in enumerate(imlist):\n",
    "    if i%100==0 and i!=0:\n",
    "        print()\n",
    "    else:\n",
    "        print('.', end='')\n",
    "        \n",
    "    img = cv2.cvtColor(cv2.imread(dbt + im), cv2.COLOR_BGR2RGB)\n",
    "    img_lab = rgb2lab(img)\n",
    "    img_l = img_lab[:, :, 0]/100.0\n",
    "    images.append(img_l)\n",
    "\n",
    "images = np.array(images)\n",
    "print()\n",
    "print(images.shape)\n",
    "\n",
    "# Convert Images\n",
    "for i, im in enumerate(images):\n",
    "    if i%100==0 and i!=0:\n",
    "        print()\n",
    "    else:\n",
    "        print('.', end='')\n",
    "        \n",
    "    if float(im.shape[0]//H)==im.shape[0]/H:\n",
    "        a = im.shape[0]\n",
    "    else:\n",
    "        a = H*(im.shape[0]//H) + H\n",
    "        \n",
    "    if float(im.shape[1]//W)==im.shape[1]/W:\n",
    "        b = im.shape[1]\n",
    "    else:\n",
    "        b = W*(im.shape[1]//W) + W\n",
    "        \n",
    "    pimg = np.zeros((a, b))\n",
    "    pimg[0:im.shape[0], 0:im.shape[1]] = im\n",
    "        \n",
    "    new_img = np.zeros((a, b, Ci+Co))\n",
    "    for j in range(pimg.shape[0]//H):\n",
    "        for k in range(pimg.shape[1]//W):\n",
    "            t_l = pimg[j*H:(j+1)*H, k*W:(k+1)*W]\n",
    "\n",
    "            t_ab = model.predict(t_l.reshape(1, H, W, Ci))\n",
    "            t_ab = t_ab.reshape(H, W, Co)\n",
    "\n",
    "            temp = np.zeros((H, W, Ci+Co))\n",
    "            temp[:, :, 0] = t_l*100.0\n",
    "            temp[:, :, 1:] = t_ab*128.0\n",
    "            temp = lab2rgb(temp)\n",
    "\n",
    "            new_img[j*H:(j+1)*H, k*W:(k+1)*W, :] = temp.reshape(H, W, Ci+Co)\n",
    "    \n",
    "    newimg = np.array(new_img*255, dtype='uint8')\n",
    "    newimg = newimg[0:im.shape[0], 0:im.shape[1]]\n",
    "    newimg = cv2.cvtColor(newimg, cv2.COLOR_BGR2RGB)\n",
    "    \n",
    "    cv2.imwrite(db3 + imlist[i], newimg)"
   ]
  },
  {
   "cell_type": "code",
   "execution_count": null,
   "metadata": {},
   "outputs": [],
   "source": []
  }
 ],
 "metadata": {
  "kernelspec": {
   "display_name": "Python 3",
   "language": "python",
   "name": "python3"
  },
  "language_info": {
   "codemirror_mode": {
    "name": "ipython",
    "version": 3
   },
   "file_extension": ".py",
   "mimetype": "text/x-python",
   "name": "python",
   "nbconvert_exporter": "python",
   "pygments_lexer": "ipython3",
   "version": "3.7.5"
  }
 },
 "nbformat": 4,
 "nbformat_minor": 1
}
